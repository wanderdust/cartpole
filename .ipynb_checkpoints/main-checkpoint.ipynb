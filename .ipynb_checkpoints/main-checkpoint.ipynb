{
 "cells": [
  {
   "cell_type": "markdown",
   "metadata": {},
   "source": [
    "# <center>Cartpole</center>"
   ]
  },
  {
   "cell_type": "markdown",
   "metadata": {},
   "source": [
    "![space invaders poster image](https://gym.openai.com/videos/2019-05-31--eRh4Fbp8G5/CartPole-v1/poster.jpg)"
   ]
  },
  {
   "cell_type": "code",
   "execution_count": 1,
   "metadata": {},
   "outputs": [
    {
     "name": "stdout",
     "output_type": "stream",
     "text": [
      "[name: \"/device:CPU:0\"\n",
      "device_type: \"CPU\"\n",
      "memory_limit: 268435456\n",
      "locality {\n",
      "}\n",
      "incarnation: 2195217863567379244\n",
      ", name: \"/device:GPU:0\"\n",
      "device_type: \"GPU\"\n",
      "memory_limit: 3251765248\n",
      "locality {\n",
      "  bus_id: 1\n",
      "  links {\n",
      "  }\n",
      "}\n",
      "incarnation: 12600178922365842841\n",
      "physical_device_desc: \"device: 0, name: GeForce GTX 1050, pci bus id: 0000:01:00.0, compute capability: 6.1\"\n",
      "]\n"
     ]
    }
   ],
   "source": [
    "from tensorflow.python.client import device_lib\n",
    "print(device_lib.list_local_devices())"
   ]
  },
  {
   "cell_type": "code",
   "execution_count": 2,
   "metadata": {},
   "outputs": [
    {
     "name": "stderr",
     "output_type": "stream",
     "text": [
      "Using TensorFlow backend.\n"
     ]
    }
   ],
   "source": [
    "import gym\n",
    "import numpy as np\n",
    "from dqn.model import ModelVanilla\n",
    "from dqn.train import Train \n",
    "from dqn.dqnAgent import DQNAgent\n",
    "import matplotlib.pyplot as plt\n",
    "\n",
    "from gym.wrappers.atari_preprocessing import AtariPreprocessing\n",
    "from baselines.common.atari_wrappers import NoopResetEnv, MaxAndSkipEnv, wrap_deepmind"
   ]
  },
  {
   "cell_type": "code",
   "execution_count": 3,
   "metadata": {},
   "outputs": [],
   "source": [
    "env = gym.make('CartPole-v1')"
   ]
  },
  {
   "cell_type": "markdown",
   "metadata": {},
   "source": [
    "**Observation space**: the observation space consists on 3 sequential images of size 210x160\n",
    "\n",
    "**Action space**: there are 6 possible actions: *left, right, shoot, left-shoot, right-shoot, do nothing*."
   ]
  },
  {
   "cell_type": "code",
   "execution_count": 4,
   "metadata": {
    "scrolled": false
   },
   "outputs": [
    {
     "name": "stdout",
     "output_type": "stream",
     "text": [
      "(4,)\n",
      "Discrete(2)\n"
     ]
    }
   ],
   "source": [
    "print(env.observation_space.shape)\n",
    "print(env.action_space)"
   ]
  },
  {
   "cell_type": "markdown",
   "metadata": {},
   "source": [
    "### Agent acting randomly"
   ]
  },
  {
   "cell_type": "code",
   "execution_count": 5,
   "metadata": {},
   "outputs": [
    {
     "name": "stderr",
     "output_type": "stream",
     "text": [
      "100%|██████████| 500/500 [00:00<00:00, 6870.55it/s]"
     ]
    },
    {
     "name": "stdout",
     "output_type": "stream",
     "text": [
      "Average score over a 500 episodes: 21.684\n"
     ]
    },
    {
     "name": "stderr",
     "output_type": "stream",
     "text": [
      "\n"
     ]
    }
   ],
   "source": [
    "from tqdm import tqdm\n",
    "\n",
    "reward_random = []\n",
    "\n",
    "for i in tqdm(range(500)):\n",
    "    total_reward = 0\n",
    "    env.reset()\n",
    "    while True:\n",
    "        #env.render()\n",
    "        next_state, reward, done, info = env.step((env.action_space.sample())) # select random action\n",
    "        total_reward += reward\n",
    "        if done:\n",
    "            reward_random.append(total_reward)\n",
    "            break\n",
    "\n",
    "    env.close()\n",
    "    \n",
    "print(\"Average score over a {} episodes: {}\".format(500, np.asarray(reward_random).mean()))"
   ]
  },
  {
   "cell_type": "markdown",
   "metadata": {},
   "source": [
    "### Establishing a benchmark\n",
    "\n",
    "I'll be using two benchmarks:\n",
    "* The performance of an agent without training over 100 games\n",
    "* The performance of a human\n",
    "    * My avg performance over 50 games: 520\n",
    "    * Avg performance of profesional tester according to DeepMind's Paper: 1652"
   ]
  },
  {
   "cell_type": "code",
   "execution_count": 6,
   "metadata": {},
   "outputs": [
    {
     "name": "stderr",
     "output_type": "stream",
     "text": [
      " score: 10.0: 100%|██████████| 500/500 [00:00<00:00, 915.90it/s]\n"
     ]
    },
    {
     "name": "stdout",
     "output_type": "stream",
     "text": [
      "Average score: 22.764\n"
     ]
    },
    {
     "data": {
      "image/png": "[encoded data removed]",
      "text/plain": [
       "<Figure size 432x288 with 1 Axes>"
      ]
     },
     "metadata": {
      "needs_background": "light"
     },
     "output_type": "display_data"
    }
   ],
   "source": [
    "episodes_eval = 500\n",
    "agent_bench = DQNAgent(action_size=2)\n",
    "benchmark = Train(env, agent_bench)\n",
    "\n",
    "# Evaluate performance\n",
    "benchmark.train(episodes_eval, learn=False, render=False)\n",
    "\n",
    "# Plot rewards\n",
    "benchmark.plot_rewards()"
   ]
  },
  {
   "cell_type": "markdown",
   "metadata": {},
   "source": [
    "## Training"
   ]
  },
  {
   "cell_type": "code",
   "execution_count": null,
   "metadata": {},
   "outputs": [
    {
     "name": "stderr",
     "output_type": "stream",
     "text": [
      " score: 165.0:  67%|██████▋   | 10013/15000 [36:52<19:58,  4.16it/s]   "
     ]
    }
   ],
   "source": [
    "episodes_train = 15000\n",
    "agent_train = DQNAgent(dueling=False, action_size=2)\n",
    "# Load existing saved weights\n",
    "# Comment if don't want to load pre-trained weights\n",
    "#agent_train.load_weights('best_model_dueling')\n",
    "\n",
    "train = Train(env, agent_train)\n",
    "# Train the agent\n",
    "train.train(episodes_train, learn=True, render=False)\n",
    "\n",
    "# Plot rewards\n",
    "train.plot_rewards(mean_avg=10)\n",
    "train.plot_rewards(mean_avg=50)\n",
    "train.plot_rewards(mean_avg=100)"
   ]
  },
  {
   "cell_type": "code",
   "execution_count": null,
   "metadata": {},
   "outputs": [],
   "source": [
    "evaluation = Train(env, agent_train)\n",
    "\n",
    "# Evaluate performance\n",
    "evaluation.train(episodes_eval, learn=False, render=True, monitor=True)\n",
    "\n",
    "# Plot rewards\n",
    "evaluation.plot_rewards(mean_avg=10)"
   ]
  },
  {
   "cell_type": "code",
   "execution_count": null,
   "metadata": {},
   "outputs": [],
   "source": []
  }
 ],
 "metadata": {
  "kernelspec": {
   "display_name": "Python 3",
   "language": "python",
   "name": "python3"
  },
  "language_info": {
   "codemirror_mode": {
    "name": "ipython",
    "version": 3
   },
   "file_extension": ".py",
   "mimetype": "text/x-python",
   "name": "python",
   "nbconvert_exporter": "python",
   "pygments_lexer": "ipython3",
   "version": "3.6.8"
  }
 },
 "nbformat": 4,
 "nbformat_minor": 2
}
